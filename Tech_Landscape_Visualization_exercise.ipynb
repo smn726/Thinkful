{
 "cells": [
  {
   "cell_type": "code",
   "execution_count": 1,
   "metadata": {
    "collapsed": true
   },
   "outputs": [],
   "source": [
    "# 9:15am. As my colleagues and I finish settling into our work areas for the day, we gather for our\n",
    "# daily morning meeting to discuss our focuses. The analytics team I am apart of share\n",
    "# some insight that helps our development team direct their efforts. The atmosphere is that of\n",
    "# innovation. Our staff consists of young professionals who freely and openly share creative \n",
    "# perspectives on a daily basis and work together to bring new, fresh ideas to the table. \n",
    "# Our company leaders work closely with each department and share constant feedback. The ambience is \n",
    "# bright and inspiring with colorful work stations and big open spaces. Everyday I leave \n",
    "# feeling fulfilled and as if I progressed as an individual and as a company. I learn from my \n",
    "# peers continuously and also provide a resource of knowledge for anyone who may seek my help. "
   ]
  },
  {
   "cell_type": "code",
   "execution_count": null,
   "metadata": {
    "collapsed": true
   },
   "outputs": [],
   "source": []
  }
 ],
 "metadata": {
  "kernelspec": {
   "display_name": "Python 3",
   "language": "python",
   "name": "python3"
  },
  "language_info": {
   "codemirror_mode": {
    "name": "ipython",
    "version": 3
   },
   "file_extension": ".py",
   "mimetype": "text/x-python",
   "name": "python",
   "nbconvert_exporter": "python",
   "pygments_lexer": "ipython3",
   "version": "3.6.2"
  }
 },
 "nbformat": 4,
 "nbformat_minor": 2
}
