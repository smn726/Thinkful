{
 "cells": [
  {
   "cell_type": "code",
   "execution_count": 1,
   "metadata": {
    "collapsed": true
   },
   "outputs": [],
   "source": [
    "# 9:15am. As my colleagues and I finish settling into our work areas for the day, we gather for our\n",
    "# daily morning meeting to discuss our focuses. Our team is tasked with creating a heatmap,\n",
    "# based on data from online matches, on our games' latest multiplayer map in hopes of identifying\n",
    "# issues of unbalancing between teams. Our first game title release has taken the gaming world\n",
    "# by storm and our small start-up is quickly taking on new challenges as more and more users are\n",
    "# logging on each day. The atmosphere is that of innovation. Our staff consists of young professionals \n",
    "# who freely and openly share creative perspectives on a daily basis and work together to bring new, \n",
    "# fresh ideas to the table. Our company leaders work closely with each department and share constant \n",
    "# feedback. The ambience is bright and inspiring with colorful work stations and big open spaces.\n",
    "# Everyday I leave feeling fulfilled and as if I progressed as an individual and as a company. \n",
    "# I learn from my peers continuously and also provide a resource of knowledge for anyone who \n",
    "# may seek my help. "
   ]
  },
  {
   "cell_type": "code",
   "execution_count": null,
   "metadata": {
    "collapsed": true
   },
   "outputs": [],
   "source": []
  }
 ],
 "metadata": {
  "kernelspec": {
   "display_name": "Python 3",
   "language": "python",
   "name": "python3"
  },
  "language_info": {
   "codemirror_mode": {
    "name": "ipython",
    "version": 3
   },
   "file_extension": ".py",
   "mimetype": "text/x-python",
   "name": "python",
   "nbconvert_exporter": "python",
   "pygments_lexer": "ipython3",
   "version": "3.6.2"
  }
 },
 "nbformat": 4,
 "nbformat_minor": 2
}
