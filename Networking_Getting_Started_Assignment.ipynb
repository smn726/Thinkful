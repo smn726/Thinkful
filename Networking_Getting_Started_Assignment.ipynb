{
 "cells": [
  {
   "cell_type": "code",
   "execution_count": null,
   "metadata": {
    "collapsed": true
   },
   "outputs": [],
   "source": [
    "# When I think about networking, I typically only have the anxiety of not really understanding or knowing much of\n",
    "# what other are talking about in our interactions. Ultimately, my goal is to be able to follow along and provide\n",
    "# insightful feedback or take in the information well enough to learn from it. Other than that, I quite enjoy networking\n",
    "# with others and sharing ideas. If I were to find myself in networking meetups or interactions in the very near future,\n",
    "# I would take the opportunity to observe others and their interactions, what they talk about and how feedback in exchanged\n",
    "# to learn from those that are much more experienced. I belive that will help me gain confidence before I really start to\n",
    "# network more actively. "
   ]
  }
 ],
 "metadata": {
  "kernelspec": {
   "display_name": "Python 3",
   "language": "python",
   "name": "python3"
  },
  "language_info": {
   "codemirror_mode": {
    "name": "ipython",
    "version": 3
   },
   "file_extension": ".py",
   "mimetype": "text/x-python",
   "name": "python",
   "nbconvert_exporter": "python",
   "pygments_lexer": "ipython3",
   "version": "3.6.2"
  }
 },
 "nbformat": 4,
 "nbformat_minor": 2
}
